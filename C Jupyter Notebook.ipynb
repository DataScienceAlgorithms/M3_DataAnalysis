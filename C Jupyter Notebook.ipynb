{
 "cells": [
  {
   "cell_type": "markdown",
   "metadata": {},
   "source": [
    "# [CPSC 322]() Data Science Algorithms\n",
    "[Gonzaga University](https://www.gonzaga.edu/) |\n",
    "[Sophina Luitel](https://www.gonzaga.edu/school-of-engineering-applied-science/faculty/detail/sophina-luitel-phd-0dba6a9d)\n",
    "\n",
    "---\n",
    "\n",
    "# Jupyter Lab and Notebook\n",
    "What are our learning objectives for this lesson?\n",
    "* Launch Jupyter Lab to edit Notebooks\n",
    "* Understand the basics of Notebook cells\n",
    "\n",
    "## Acknowledgments\n",
    "Content used in this lesson is based upon information in the following sources:\n",
    "* [Jupyter website](http://jupyter.org/)\n",
    "* Dr. Gina Sprint's Notes"
   ]
  },
  {
   "cell_type": "markdown",
   "metadata": {},
   "source": [
    "## Today \n",
    "* Announcements\n",
    "    * PA3 will be assigned by tomorrow \n",
    "* Start JupyterNotebookFun\n",
    "    * Use Jupyter Notebook for data storytelling\n",
    "        * \"Treat a program as a piece of literature, addressed to human beings rather than to a computer\" ~Donald Knuth (famous Computer Scientist)\n",
    "    * Learn some Markdown \n"
   ]
  },
  {
   "cell_type": "markdown",
   "metadata": {},
   "source": [
    "## Overview of Jupyter Lab and Notebook\n",
    "According to the [Jupyter website](http://jupyter.org/):\n",
    "\n",
    ">JupyterLab is a web-based interactive development environment for Jupyter notebooks, code, and data. JupyterLab is flexible: configure and arrange the user interface to support a wide range of workflows in data science, scientific computing, and machine learning. JupyterLab is extensible and modular: write plugins that add new components and integrate with existing ones.\n",
    "\n",
    ">The Jupyter Notebook is a web application that allows you to create and share documents that contain live code, equations, visualizations and explanatory text. Uses include: data cleaning and transformation, numerical simulation, statistical modeling, machine learning and much more.\n",
    "\n",
    ">The notebook extends the console-based approach to interactive computing in a qualitatively new direction, providing a web-based application suitable for capturing the whole computation process: developing, documenting, and executing code, as well as communicating the results. The Jupyter notebook combines two components:\n",
    "1. **Web application** – A browser-based tool for creating documents that combine code, explanations, mathematics, and rich media outputs.\n",
    "2. **Notebook documents** – Files that contain all content from the web app, including code inputs/outputs, explanatory text, math, images, and rich media representations.\n",
    "\n",
    ">Main Features of the Web Application\n",
    "- Edit code directly in the browser with syntax highlighting, indentation, and tab completion.\n",
    "- Run code from the browser and attach results directly to the code.\n",
    "- Display computation results in rich media like HTML, LaTeX, PNG, or SVG. Publication-quality figures from matplotlib can appear inline.\n",
    "- Edit rich text using Markdown, which allows more than plain text commentary.\n",
    "- Include mathematical notation in markdown cells with LaTeX, rendered by MathJax.\n",
    "\n",
    ">Notebook Documents  \n",
    "Notebook documents contains the inputs and outputs of a interactive session as well as additional text that accompanies the code but is not meant for execution. In this way, notebook files can serve as a complete computational record of a session, interleaving executable code with explanatory text, mathematics, and rich representations of resulting objects. These documents are internally JSON files and are saved with the .ipynb extension. Since JSON is a plain text format, they can be version-controlled and shared with colleagues.\n",
    "\n",
    ">Notebooks may be exported to a range of static formats, including HTML (for example, for blog posts), reStructuredText, LaTeX, PDF, and slide shows, via the nbconvert command.\n",
    "\n",
    ">Furthermore, any .ipynb notebook document available from a public URL can be shared via the Jupyter Notebook Viewer (nbviewer). This service loads the notebook document from the URL and renders it as a static web page. The results may thus be shared with a colleague, or as a public blog post, without other users needing to install the Jupyter notebook themselves. In effect, nbviewer is simply nbconvert as a web service, so you can do your own static conversions with nbconvert, without relying on nbviewer.\n",
    "\n",
    "For more information on Jupyter Notebooks and their purpose, please read the [documentation](http://jupyter-notebook.readthedocs.io/en/latest/notebook.html).\n",
    "\n",
    "### Notebooks in this Class\n",
    "You are already somewhat familiar with Jupyter Notebooks, this is one! I write my notes in Jupyter Notebook because I can interleave nicely typeset explanations of code with the actual code and its output. We are going to cover Jupyter Notebooks for three main reasons:\n",
    "1. You can *run* my notes rather just *view* them on nbviewer\n",
    "1. You can create your own notebooks for assignments, especially assignments with plots\n",
    "    * Note: for some assignments in this class you will be required to use Jupyter Notebooks\n",
    "1. Jupyter Notebooks are popular in the data science community. \n",
    "    * They are used to tell *stories* about data.\n",
    "    * There is a nice post describing data storytelling, [\"Building a data science portfolio: Storytelling with data\"](https://www.dataquest.io/blog/data-science-portfolio-project/) by Vik Paruchuri. The following text is an excerpt:\n",
    "\n",
    "> Data science is fundamentally about communication. You'll discover some insight in the data, then figure out an effective way to communicate that insight to others, then sell them on the course of action you propose. One of the most critical skills in data science is being able to tell an effective story using data. An effective story can make your insights much more compelling, and help others understand your ideas.\n",
    "\n",
    ">A story in the data science context is a narrative around what you found, how you found it, and what it means. An example might be the discovery that your company's revenue has dropped 20% in the last year. Its not enough to just state that fact – you’ll have to communicate why revenue dropped, and how to potentially fix it.\n",
    "\n",
    ">The main components of storytelling with data are:\n",
    ">* Understanding and setting the context\n",
    ">* Exploring multiple angles\n",
    ">* Using compelling visualizations\n",
    ">* Using varied data sources\n",
    ">* Having a consistent narrative\n",
    "\n",
    ">The best tool to effectively tell a story with data is Jupyter notebook. \n",
    "\n",
    "* Here are few other great data storytelling articles you should check out: [\"Data Storytelling: The Essential Data Science Skill Everyone Needs\"](https://www.forbes.com/sites/brentdykes/2016/03/31/data-storytelling-the-essential-data-science-skill-everyone-needs/) and [\"The Importance of Data Storytelling\"](https://online.jcu.edu.au/blog/the-importance-of-data-storytelling)\n",
    "\n",
    "Note: Big companies like Google, Microsoft, and IBM use Jupyter Notebook, so learning to use Notebooks will make you more marketable!\n",
    "\n",
    "Note: Jupyter Notebook is included in the Anaconda Python distribution."
   ]
  },
  {
   "cell_type": "markdown",
   "metadata": {},
   "source": [
    "### Starting the Jupyter Lab Server\n",
    "Jupyter Lab runs as a light weight server running on your computer (localhost). There are a few ways to launch the Lab server, depending on your Python installation:\n",
    "1. (Docker): Start Jupyter Lab from the Docker container's command line: `jupyter lab --ip='0.0.0.0' --port=8888 --no-browser --allow-root --notebook-dir=/home`\n",
    "    * Then copy the url shown in the output and paste it in a web browser\n",
    "    * NOte: This will launch the Lab with the CWD being the containers `/home` directory\n",
    "1. (Local Python): Start Jupyter from your Windows/Mac command line type: `jupyter lab`. \n",
    "    * Note: This will launch the Lab with the same CWD as your command prompt/terminal.\n",
    "1. (Local Python): You can launch Jupyter Lab by opening the Anaconda Navigator GUI. Click on Jupyter Lab.\n",
    "        * Note: This will launch the Lab with your root directory as the CWD.\n",
    "\n",
    "This will print some information about the notebook server in your terminal, including the URL of the web application (by default, [http://localhost:8888](http://localhost:8888)):\n",
    "\n",
    "```\n",
    "PS C:\\Users\\luitel> jupyter lab\n",
    "[I 2025-09-23 12:55:27.257 ServerApp] jupyter_lsp | extension was successfully linked.\n",
    "[I 2025-09-23 12:55:27.263 ServerApp] jupyter_server_terminals | extension was successfully linked.\n",
    "[I 2025-09-23 12:55:27.268 ServerApp] jupyterlab | extension was successfully linked.\n",
    "[I 2025-09-23 12:55:27.273 ServerApp] notebook | extension was successfully linked.\n",
    "[I 2025-09-23 12:55:27.633 ServerApp] notebook_shim | extension was successfully linked.\n",
    "[I 2025-09-23 12:55:27.633 ServerApp] panel.io.jupyter_server_extension | extension was successfully linked.\n",
    "[I 2025-09-23 12:55:27.700 ServerApp] notebook_shim | extension was successfully loaded.\n",
    "[I 2025-09-23 12:55:27.703 ServerApp] jupyter_lsp | extension was successfully loaded.\n",
    "[I 2025-09-23 12:55:27.705 ServerApp] jupyter_server_terminals | extension was successfully loaded.\n",
    "[I 2025-09-23 12:55:27.708 LabApp] JupyterLab extension loaded from C:\\Users\\luitel\\AppData\\Local\\anaconda3\\Lib\\site-packages\\jupyterlab\n",
    "[I 2025-09-23 12:55:27.708 LabApp] JupyterLab application directory is C:\\Users\\luitel\\AppData\\Local\\anaconda3\\share\\jupyter\\lab\n",
    "[I 2025-09-23 12:55:27.709 LabApp] Extension Manager is 'pypi'.\n",
    "[I 2025-09-23 12:55:27.986 ServerApp] jupyterlab | extension was successfully loaded.\n",
    "[I 2025-09-23 12:55:27.993 ServerApp] notebook | extension was successfully loaded.\n",
    "[I 2025-09-23 12:55:27.993 ServerApp] panel.io.jupyter_server_extension | extension was successfully loaded.\n",
    "[I 2025-09-23 12:55:27.995 ServerApp] Serving notebooks from local directory: C:\\Users\\luitel\n",
    "[I 2025-09-23 12:55:27.995 ServerApp] Jupyter Server 2.15.0 is running at:\n",
    "[I 2025-09-23 12:55:27.995 ServerApp] http://localhost:8888/lab?token=9ba4b7c02003c00812eb3f597bbe4bc85b08a952c8c71dbf\n",
    "[I 2025-09-23 12:55:27.996 ServerApp]     http://127.0.0.1:8888/lab?token=9ba4b7c02003c00812eb3f597bbe4bc85b08a952c8c71dbf\n",
    "[I 2025-09-23 12:55:27.996 ServerApp] Use Control-C to stop this server and shut down all kernels (twice to skip confirmation).\n",
    "```\n",
    "Then open your default web browser to this URL.\n",
    "\n",
    "When the Lab opens in your browser, you will see the Lab Dashboard, which will show a list of the notebooks, files, and subdirectories in the directory where the notebook server was started. Most of the time, you will wish to start a notebook server in the highest level directory containing notebooks. Often this will be your home directory.\n",
    "\n",
    "<img src=\"https://jupyterlab.readthedocs.io/en/latest/_images/jupyterlab.png\" width=800>\n",
    "\n",
    "(image from https://jupyterlab.readthedocs.io/en/latest/_images/jupyterlab.png)\n",
    "\n",
    "Note: the lab server provides help messages for other command line arguments using the --help flag: `jupyter lab --help`"
   ]
  },
  {
   "cell_type": "markdown",
   "metadata": {},
   "source": [
    "### Opening Notebooks\n",
    "You can create new notebooks from the dashboard with the New Notebook button, or open existing ones by clicking on their name. You can also drag and drop .ipynb notebooks and standard .py Python source code files into the notebook list area.\n",
    "\n",
    "When starting a notebook server from the command line, you can also open a particular notebook directly, bypassing the dashboard, with jupyter notebook my_notebook.ipynb. The .ipynb extension is assumed if no extension is given.\n",
    "\n",
    "When you are inside an open notebook, the File | Open... menu option will open the dashboard in a new browser tab, to allow you to open another notebook from the notebook directory or to create a new notebook.\n",
    "\n",
    "### Notebook Editor\n",
    "Notebooks will open in the Notebook editor. When you create a new notebook document, you will see the notebook name, a menu bar, a toolbar, and an empty code cell.\n",
    "\n",
    "* **Notebook name:** The name of the notebook is displayed at the top of the notebook tab. This reflects the name of the `.ipynb` notebook file. Clicking on the notebook name opens a dialog that allows you to rename it. For example, renaming the notebook from \"Untitled0\" to \"My First Notebook\" in the browser will rename the file from `Untitled0.ipynb` to `My First Notebook.ipynb`.  \n",
    "* **Menu bar:** The menu bar provides various options to manipulate the notebook, such as saving, running cells, inserting new cells, and more.  \n",
    "* **Toolbar:** The toolbar gives quick access to commonly used operations, such as running cells, stopping execution, and adding or deleting cells, through clickable icons.  \n",
    "* **Code cell:** The default type of cell where you write and execute code. You can also have Markdown cells for text and explanations (more on cell types below).\n",
    "### How to Learn More\n",
    "If you would like to learn more about the specific elements within Jupyter Notebook, you can go to the JupyterLab Reference docs by selecting Help in the menu bar then selecting JupyterLab Reference.\n",
    "\n",
    "### Cells\n",
    "The notebook consists of a sequence of cells. A cell is a multiline input field, and its contents can be executed using `Shift + Enter`, or by clicking the Run button in the toolbar, or selecting Cell → Run from the menu bar.\n",
    "\n",
    "The execution behavior of a cell depends on its **type**. In JupyterLab, there are three main types of cells:\n",
    "\n",
    "1. Code cells – Used for writing and executing code.  \n",
    "2. Markdown cells – Used for adding formatted text, headings, lists, links, images, and LaTeX math. Headings are created inside Markdown cells using Markdown syntax (`# Heading 1`, `## Heading 2`, etc.).  \n",
    "3. Raw cells – Used for text that is not meant to be executed or rendered, typically for output formats like LaTeX or plain text export.  \n",
    "\n",
    "> **Note:** Older versions of Jupyter Notebook had “heading cells,” but in JupyterLab, **headings are created within Markdown cells**, not as a separate cell type.\n",
    "\n",
    "Every cell starts off being a code cell, but its type can be changed by using a drop-down on the toolbar (which will be \"Code\", initially), or via keyboard shortcuts.\n",
    "\n",
    "#### Code Cells\n",
    "When a code cell is executed, code that it contains is sent to the kernel associated with the notebook. The results that are returned from this computation are then displayed in the notebook as the cell's output. The output is not limited to text, with many other possible forms of output are also possible, including [Matplotlib](https://matplotlib.org/) figures and HTML tables (as used, for example, in the [Pandas data analysis package](http://pandas.pydata.org/)). \n",
    "\n",
    "Example code cell:"
   ]
  },
  {
   "cell_type": "code",
   "execution_count": 10,
   "metadata": {},
   "outputs": [
    {
     "name": "stdout",
     "output_type": "stream",
     "text": [
      "0:)1:)2:)3:)4:)"
     ]
    }
   ],
   "source": [
    "x = 5\n",
    "for i in range(x):\n",
    "    print(i, end=\":)\")"
   ]
  },
  {
   "cell_type": "markdown",
   "metadata": {},
   "source": [
    "#### Markdown Cells\n",
    "(This is an example Markdown cell.)\n",
    "\n",
    "You can document the computational process in a literate way, alternating descriptive text with code, using rich text. In Jupyter Notebook this is accomplished by marking up text with the [Markdown markup language](https://en.wikipedia.org/wiki/Markdown). The corresponding cells are called Markdown cells. The Markdown language provides a simple way to perform this text markup, that is, to specify which parts of the text should be emphasized (italics), bold, form lists, etc.\n",
    "\n",
    "When a Markdown cell is executed, the Markdown code is converted into the corresponding formatted rich text. Markdown allows arbitrary HTML code for formatting.\n",
    "\n",
    "Within Markdown cells, you can also include mathematics in a straightforward way, using standard [LaTeX](https://www.latex-project.org/about/) notation: `$...$` for in line mathematics and `$$...$$` for displayed mathematics. When the Markdown cell is executed, the LaTeX portions are automatically rendered in the HTML output as equations with high quality typography. This is made possible by MathJax, which supports a large subset of LaTeX functionality.\n",
    "\n",
    "\n",
    "A notebook may be downloaded in either a .ipynb or .py file from the menu option File | Download as. Choosing the .py option downloads a Python .py script, in which all rich output has been removed and the content of markdown cells have been inserted as comments."
   ]
  },
  {
   "cell_type": "markdown",
   "metadata": {},
   "source": [
    "#### Raw Cells\n",
    "Raw cells provide a place in which you can write output directly. Raw cells are not evaluated by the notebook. When passed through nbconvert, raw cells arrive in the destination format unmodified. For example, this allows you to type full LaTeX into a raw cell, which will only be rendered by LaTeX after conversion by nbconvert."
   ]
  },
  {
   "cell_type": "markdown",
   "metadata": {},
   "source": [
    "### Cell Modes\n",
    "The state of a cell is in one of two modes:\n",
    "1. Edit mode: you can modify the contents of a cell, i.e. add a line a code.\n",
    "1. Command mode: you can view the cell, but not modify the contents of a cell. You can issue commands in command mode, such as add a cell below, or change the type of cell."
   ]
  },
  {
   "cell_type": "markdown",
   "metadata": {},
   "source": [
    "### Workflow\n",
    "Typically, you will work on a computational problem in pieces, organizing related ideas into cells and moving forward once previous parts work correctly. This is much more convenient for interactive exploration than breaking up a computation into scripts that must be executed together, as was previously necessary, especially if parts of them take a long time to run.\n",
    "\n",
    "When writing Jupyter Notebooks, you will alternate between describing a procedure in a Markdown cell and implementing a procedure in a code cell. All actions in the notebook can be performed with the mouse, but keyboard shortcuts are also available for the most common ones. \n",
    "\n",
    "The essential shortcuts to remember are the following:\n",
    "* Shift-Enter: run cell\n",
    "    * Execute the current cell, show output (if any), and jump to the next cell below. If Shift-Enter is invoked on the last cell, a new code cell will also be created. Note that in the notebook, typing Enter on its own never forces execution, but rather just inserts a new line in the current cell. Shift-Enter is equivalent to clicking the Cell | Run menu item.\n",
    "* Ctrl-Enter: run cell in-place\n",
    "    * Execute the current cell as if it were in \"terminal mode\", where any output is shown, but the cursor remains in the current cell. The cell's entire contents are selected after execution, so you can just start typing and only the new input will be in the cell. This is convenient for doing quick experiments in place, or for querying things like filesystem content, without needing to create additional cells that you may not want to be saved in the notebook.\n",
    "* Alt-Enter: run cell, insert below\n",
    "    * Executes the current cell, shows the output, and inserts a new cell between the current cell and the cell below (if one exists). This is thus a shortcut for the sequence Shift-Enter, Ctrl-m a. (Ctrl-m a adds a new cell above the current one.)\n",
    "* Esc and Enter: Command mode and edit mode\n",
    "    * In command mode, you can easily navigate around the notebook using keyboard shortcuts. In edit mode, you can edit text in cells.\n",
    "\n",
    "Command mode command shortcuts:\n",
    "* a: insert a cell above\n",
    "* b: insert a cell below\n",
    "* m: convert cell to markdown cell\n",
    "* y: convert cell to code cell\n",
    "* dd: delete a cell\n",
    "\n",
    "For the full list of available shortcuts, click Help, Keyboard Shortcuts in the notebook menus."
   ]
  },
  {
   "cell_type": "markdown",
   "metadata": {},
   "source": [
    "## Spell Check\n",
    "\n",
    "Jupyter Notebook and JupyterLab do not include a spell checker for Markdown cells by default, but having one is very useful for keeping your notebooks professional and typo-free.\n",
    "\n",
    "For Jupyter Notebook,\n",
    "Install the spell checker via pip:\n",
    "\n",
    "```bash\n",
    "pip install jupyter_contrib_nbextensions\n",
    "jupyter contrib nbextension install --user\n",
    "jupyter nbextension enable spellchecker/main\n",
    "```\n",
    "For Jupyter Lab,\n",
    "\n",
    "`pip install jupyterlab-spellchecker`\n",
    "\n",
    "I highly recommend you install a spell checker well, especially since you will code some assignments in Jupyter Notebook/Lab. You don't want to turn in assignments with typos!\n"
   ]
  }
 ],
 "metadata": {
  "anaconda-cloud": {},
  "kernelspec": {
   "display_name": "Python 3 (ipykernel)",
   "language": "python",
   "name": "python3"
  },
  "language_info": {
   "codemirror_mode": {
    "name": "ipython",
    "version": 3
   },
   "file_extension": ".py",
   "mimetype": "text/x-python",
   "name": "python",
   "nbconvert_exporter": "python",
   "pygments_lexer": "ipython3",
   "version": "3.13.5"
  }
 },
 "nbformat": 4,
 "nbformat_minor": 4
}
